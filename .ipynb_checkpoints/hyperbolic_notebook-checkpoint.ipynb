{
 "cells": [
  {
   "cell_type": "code",
   "execution_count": 1,
   "metadata": {
    "collapsed": false,
    "deletable": true,
    "editable": true
   },
   "outputs": [],
   "source": [
    "import matplotlib.pyplot as plt\n",
    "import numpy as np"
   ]
  },
  {
   "cell_type": "code",
   "execution_count": 2,
   "metadata": {
    "collapsed": false,
    "deletable": true,
    "editable": true
   },
   "outputs": [],
   "source": [
    "#    weighted tree adjacency matrix\n",
    "#    A  B  C  D  E  F  G  H  I  J  K\n",
    "A = [0, 1, 2, 2, 1, 2, 2, 3, 3, 1, 2]\n",
    "B = [1, 0, 1, 1, 2, 3, 3, 4, 4, 2, 1]\n",
    "C = [2, 1, 0, 2, 3, 4, 4, 5, 5, 3, 2]\n",
    "D = [2, 1, 2, 0, 3, 4, 4, 5, 5, 3, 2]\n",
    "E = [1, 2, 3, 3, 0, 1, 1, 2, 2, 2, 3]\n",
    "F = [2, 3, 4, 4, 1, 0, 2, 3, 3, 3, 4]\n",
    "G = [2, 3, 4, 4, 1, 2, 0, 1, 1, 3, 4]\n",
    "H = [3, 4, 5, 5, 2, 3, 1, 0, 2, 4, 5]\n",
    "I = [3, 4, 5, 5, 2, 3, 1, 2, 0, 4, 5]\n",
    "J = [1, 2, 3, 3, 2, 3, 3, 4, 4, 0, 3]\n",
    "K = [2, 1, 2, 2, 3, 4, 4, 5, 5, 3, 0]\n",
    "tree = [A, B, C, D, E, F, G, H, I, J, K] \n",
    "\n",
    "embedding_dim = 2\n",
    "lr = 1e-3\n",
    "num_updates = 5000\n",
    "\n",
    "# uncomment this if you want to run in jupyter instead of CLI\n",
    "#from findOptimalEmbedding import findOptimalEmbedding\n",
    "#findOptimalEmbedding(graph, embedding_dim, lr, num_updates) "
   ]
  },
  {
   "cell_type": "code",
   "execution_count": 3,
   "metadata": {
    "collapsed": false,
    "deletable": true,
    "editable": true
   },
   "outputs": [
    {
     "name": "stdout",
     "output_type": "stream",
     "text": [
      "[[ 0.06086105  0.71133715]\n",
      " [-0.78733212  0.01106209]\n",
      " [-1.9953438   0.48533767]\n",
      " [-0.98510253 -1.28712535]\n",
      " [ 1.11668813  0.93933922]\n",
      " [ 1.33977652  2.29525042]\n",
      " [ 2.1924262   0.64350462]\n",
      " [ 3.11946797 -0.12570088]\n",
      " [ 3.20340061  1.21093798]\n",
      " [-0.57930011  1.96889937]\n",
      " [-1.68601584 -0.55568385]]\n"
     ]
    }
   ],
   "source": [
    "euclid_embedding = np.load('euclid_embedding.npy')\n",
    "print(euclid_embedding)"
   ]
  },
  {
   "cell_type": "code",
   "execution_count": 4,
   "metadata": {
    "collapsed": false,
    "deletable": true,
    "editable": true
   },
   "outputs": [
    {
     "name": "stdout",
     "output_type": "stream",
     "text": [
      "[[  2.21539840e-01   9.71600413e-04]\n",
      " [ -1.53510839e-01  -3.47857714e-01]\n",
      " [ -3.60791057e-01  -6.34288371e-01]\n",
      " [ -6.10593140e-01  -3.16935629e-01]\n",
      " [  3.84949207e-01   4.21562105e-01]\n",
      " [  6.88700318e-01   4.57100838e-01]\n",
      " [  3.87510180e-01   7.03458309e-01]\n",
      " [  3.51835459e-01   8.45521629e-01]\n",
      " [  4.97290611e-01   7.81135619e-01]\n",
      " [  6.43867612e-01  -2.30057821e-01]\n",
      " [  5.55604813e-04  -7.37275124e-01]]\n"
     ]
    }
   ],
   "source": [
    "hyp_embedding = np.load('hyp_embedding.npy')\n",
    "print(hyp_embedding)"
   ]
  },
  {
   "cell_type": "code",
   "execution_count": 5,
   "metadata": {
    "collapsed": true,
    "deletable": true,
    "editable": true
   },
   "outputs": [],
   "source": [
    "def np_euclid_dist(x, y):\n",
    "    \"\"\"\n",
    "    Euclidean distance between two tensors (numpy only).\n",
    "    euclid_dist(x) = sqrt(x^2 + y^2)\n",
    "    \"\"\"\n",
    "    return np.linalg.norm(np.asarray(x)-np.asarray(y))\n",
    "\n",
    "def np_hyp_dist(u, v):\n",
    "    \"\"\"\n",
    "    Hyperbolic distance between two vectors (numpy only).\n",
    "    hyp_dist(x) = arcosh(1 + 2*|u - v|^2 / ((1 - |u|^2) * (1 - |v|^2)))    \n",
    "    \"\"\"\n",
    "    # make sure its in np.array type.\n",
    "    u = np.asarray(u)\n",
    "    v = np.asarray(v)\n",
    "    \n",
    "    # get norm in the denominator.\n",
    "    u_norm = 1. - np.linalg.norm(u)**2\n",
    "    v_norm = 1. - np.linalg.norm(v)**2 \n",
    "    \n",
    "    # get the delta\n",
    "    delta = 2. * (np.linalg.norm(u-v)**2) / (u_norm * v_norm)\n",
    "    \n",
    "    # calculate hyp dist\n",
    "    return np.arccosh(1. + delta)\n",
    "\n",
    "def get_distance_adj_matrix(euclid_embedding, dist_func):\n",
    "    embed_list = euclid_embedding.tolist()\n",
    "    num_vertices = len(euclid_embedding)\n",
    "    dist = np.zeros([num_vertices, num_vertices])\n",
    "\n",
    "    # get the distance matrix \n",
    "    for i_idx, i in enumerate(embed_list):\n",
    "        for j_idx, j in enumerate(embed_list):\n",
    "            if i_idx <= j_idx:\n",
    "                continue\n",
    "            dist[i_idx][j_idx] = dist_func(i, j)\n",
    "            dist[j_idx][i_idx] = dist[i_idx][j_idx]\n",
    "    \n",
    "    return dist"
   ]
  },
  {
   "cell_type": "code",
   "execution_count": 6,
   "metadata": {
    "collapsed": false,
    "deletable": true,
    "editable": true
   },
   "outputs": [
    {
     "name": "stdout",
     "output_type": "stream",
     "text": [
      "[[ 0.   1.1  2.1  2.1  1.1  2.   2.1  3.   3.1  1.3  2. ]\n",
      " [ 1.1  0.   1.1  1.3  2.1  3.1  3.   3.9  4.1  2.   1.3]\n",
      " [ 2.1  1.1  0.   1.5  3.1  4.2  4.1  5.   5.1  3.   1.5]\n",
      " [ 2.1  1.3  1.5  0.   3.   4.   3.8  4.7  4.9  3.2  2.4]\n",
      " [ 1.1  2.1  3.1  3.   0.   1.2  1.1  2.1  2.1  2.   3.1]\n",
      " [ 2.   3.1  4.2  4.   1.2  0.   2.   3.1  2.7  2.6  4. ]\n",
      " [ 2.1  3.   4.1  3.8  1.1  2.   0.   1.2  1.1  3.1  4. ]\n",
      " [ 3.   3.9  5.   4.7  2.1  3.1  1.2  0.   1.8  4.1  5. ]\n",
      " [ 3.1  4.1  5.1  4.9  2.1  2.7  1.1  1.8  0.   4.   5.1]\n",
      " [ 1.3  2.   3.   3.2  2.   2.6  3.1  4.1  4.   0.   2.6]\n",
      " [ 2.   1.3  1.5  2.4  3.1  4.   4.   5.   5.1  2.6  0. ]]\n"
     ]
    }
   ],
   "source": [
    "hyp_dist_matrix = get_distance_adj_matrix(hyp_embedding, np_hyp_dist)\n",
    "\n",
    "np.set_printoptions(precision=1)        \n",
    "print(hyp_dist_matrix)"
   ]
  },
  {
   "cell_type": "code",
   "execution_count": 7,
   "metadata": {
    "collapsed": false,
    "deletable": true,
    "editable": true
   },
   "outputs": [
    {
     "name": "stdout",
     "output_type": "stream",
     "text": [
      "[[ 0.   1.1  2.1  2.3  1.1  2.   2.1  3.2  3.2  1.4  2.2]\n",
      " [ 1.1  0.   1.3  1.3  2.1  3.1  3.   3.9  4.2  2.   1.1]\n",
      " [ 2.1  1.3  0.   2.   3.1  3.8  4.2  5.2  5.2  2.1  1.1]\n",
      " [ 2.3  1.3  2.   0.   3.1  4.3  3.7  4.3  4.9  3.3  1. ]\n",
      " [ 1.1  2.1  3.1  3.1  0.   1.4  1.1  2.3  2.1  2.   3.2]\n",
      " [ 2.   3.1  3.8  4.3  1.4  0.   1.9  3.   2.2  1.9  4.2]\n",
      " [ 2.1  3.   4.2  3.7  1.1  1.9  0.   1.2  1.2  3.1  4.1]\n",
      " [ 3.2  3.9  5.2  4.3  2.3  3.   1.2  0.   1.3  4.3  4.8]\n",
      " [ 3.2  4.2  5.2  4.9  2.1  2.2  1.2  1.3  0.   3.9  5.2]\n",
      " [ 1.4  2.   2.1  3.3  2.   1.9  3.1  4.3  3.9  0.   2.8]\n",
      " [ 2.2  1.1  1.1  1.   3.2  4.2  4.1  4.8  5.2  2.8  0. ]]\n"
     ]
    }
   ],
   "source": [
    "euclid_dist_matrix = get_distance_adj_matrix(euclid_embedding, np_euclid_dist)\n",
    "\n",
    "np.set_printoptions(precision=1)        \n",
    "print(euclid_dist_matrix)"
   ]
  },
  {
   "cell_type": "code",
   "execution_count": 8,
   "metadata": {
    "collapsed": false,
    "deletable": true,
    "editable": true
   },
   "outputs": [],
   "source": [
    "# simple scatter graph using matplotlib\n",
    "def scatter_plot_tree(embedding):\n",
    "    fig = plt.figure()\n",
    "    ax = fig.add_subplot(1,1,1)\n",
    "    x = embedding[:,0]\n",
    "    y = embedding[:,1]\n",
    "    ax.scatter(x, y)\n",
    "    plt.show()    "
   ]
  },
  {
   "cell_type": "code",
   "execution_count": 9,
   "metadata": {
    "collapsed": false,
    "deletable": true,
    "editable": true
   },
   "outputs": [
    {
     "data": {
      "image/png": "[encoded data removed]",
      "text/plain": [
       "<matplotlib.figure.Figure at 0x7f52e0f36110>"
      ]
     },
     "metadata": {},
     "output_type": "display_data"
    }
   ],
   "source": [
    "scatter_plot_tree(euclid_embedding)"
   ]
  },
  {
   "cell_type": "code",
   "execution_count": 11,
   "metadata": {
    "collapsed": false,
    "deletable": true,
    "editable": true
   },
   "outputs": [
    {
     "data": {
      "image/png": "[encoded data removed]",
      "text/plain": [
       "<matplotlib.figure.Figure at 0x7f52deda9ad0>"
      ]
     },
     "metadata": {},
     "output_type": "display_data"
    }
   ],
   "source": [
    "scatter_plot_tree(hyp_embedding) # <- this looks weird because it is in poincare disk model, not R2"
   ]
  },
  {
   "cell_type": "code",
   "execution_count": 12,
   "metadata": {
    "collapsed": false,
    "deletable": true,
    "editable": true,
    "scrolled": true
   },
   "outputs": [
    {
     "name": "stdout",
     "output_type": "stream",
     "text": [
      "[[ 0.22154  0.00097]\n",
      " [-0.15351 -0.34786]\n",
      " [-0.36079 -0.63429]\n",
      " [-0.61059 -0.31694]\n",
      " [ 0.38495  0.42156]\n",
      " [ 0.6887   0.4571 ]\n",
      " [ 0.38751  0.70346]\n",
      " [ 0.35184  0.84552]\n",
      " [ 0.49729  0.78114]\n",
      " [ 0.64387 -0.23006]\n",
      " [ 0.00056 -0.73728]]\n"
     ]
    }
   ],
   "source": [
    "hyp_embedding = np.load('hyp_embedding.npy')\n",
    "np.set_printoptions(precision=5, suppress=True)\n",
    "print(hyp_embedding)"
   ]
  },
  {
   "cell_type": "code",
   "execution_count": null,
   "metadata": {
    "collapsed": false,
    "deletable": true,
    "editable": true
   },
   "outputs": [],
   "source": [
    "#             hyp dist adjacency matrix\n",
    "#     A    B    C    D    E    F    G    H    I    J    K\n",
    "A = [ 0.   1.1  2.1  2.1  1.1  2.   2.1  3.   3.1  1.3  2. ]\n",
    "B = [ 1.1  0.   1.1  1.3  2.1  3.1  3.   3.9  4.1  2.   1.3]\n",
    "C = [ 2.1  1.1  0.   1.5  3.1  4.2  4.1  5.   5.1  3.   1.5]\n",
    "D = [ 2.1  1.3  1.5  0.   3.   4.   3.8  4.7  4.9  3.2  2.4]\n",
    "E = [ 1.1  2.1  3.1  3.   0.   1.2  1.1  2.1  2.1  2.   3.1]\n",
    "F = [ 2.   3.1  4.2  4.   1.2  0.   2.   3.1  2.7  2.6  4. ]\n",
    "G = [ 2.1  3.   4.1  3.8  1.1  2.   0.   1.2  1.1  3.1  4. ]\n",
    "H = [ 3.   3.9  5.   4.7  2.1  3.1  1.2  0.   1.8  4.1  5. ]\n",
    "I = [ 3.1  4.1  5.1  4.9  2.1  2.7  1.1  1.8  0.   4.   5.1]\n",
    "J = [ 1.3  2.   3.   3.2  2.   2.6  3.1  4.1  4.   0.   2.6]\n",
    "K = [ 2.   1.3  1.5  2.4  3.1  4.   4.   5.   5.1  2.6  0. ]"
   ]
  },
  {
   "cell_type": "code",
   "execution_count": null,
   "metadata": {
    "collapsed": true,
    "deletable": true,
    "editable": true
   },
   "outputs": [],
   "source": [
    "#             euclid dist adjacency matrix\n",
    "#     A    B    C    D    E    F    G    H    I    J    K\n",
    "A = [ 0.   1.1  2.1  2.3  1.1  2.   2.1  3.2  3.2  1.4  2.2]\n",
    "B = [ 1.1  0.   1.3  1.3  2.1  3.1  3.   3.9  4.2  2.   1.1]\n",
    "C = [ 2.1  1.3  0.   2.   3.1  3.8  4.2  5.2  5.2  2.1  1.1]\n",
    "D = [ 2.3  1.3  2.   0.   3.1  4.3  3.7  4.3  4.9  3.3  1. ]\n",
    "E = [ 1.1  2.1  3.1  3.1  0.   1.4  1.1  2.3  2.1  2.   3.2]\n",
    "F = [ 2.   3.1  3.8  4.3  1.4  0.   1.9  3.   2.2  1.9  4.2]\n",
    "G = [ 2.1  3.   4.2  3.7  1.1  1.9  0.   1.2  1.2  3.1  4.1]\n",
    "H = [ 3.2  3.9  5.2  4.3  2.3  3.   1.2  0.   1.3  4.3  4.8]\n",
    "I = [ 3.2  4.2  5.2  4.9  2.1  2.2  1.2  1.3  0.   3.9  5.2]\n",
    "J = [ 1.4  2.   2.1  3.3  2.   1.9  3.1  4.3  3.9  0.   2.8]\n",
    "K = [ 2.2  1.1  1.1  1.   3.2  4.2  4.1  4.8  5.2  2.8  0. ]"
   ]
  }
 ],
 "metadata": {
  "kernelspec": {
   "display_name": "Python 2",
   "language": "python",
   "name": "python2"
  },
  "language_info": {
   "codemirror_mode": {
    "name": "ipython",
    "version": 2
   },
   "file_extension": ".py",
   "mimetype": "text/x-python",
   "name": "python",
   "nbconvert_exporter": "python",
   "pygments_lexer": "ipython2",
   "version": "2.7.12"
  }
 },
 "nbformat": 4,
 "nbformat_minor": 2
}
